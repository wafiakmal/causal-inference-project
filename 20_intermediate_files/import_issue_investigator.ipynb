{
 "cells": [
  {
   "attachments": {},
   "cell_type": "markdown",
   "metadata": {},
   "source": [
    "# Issue Investigation\n",
    "\n",
    "**This notebook is used to look into potential issues that arose when importing data. We encountered an issue where the data reported NA values in the `citation_issued` column in a few instances, and others in some other cases.**"
   ]
  },
  {
   "attachments": {},
   "cell_type": "markdown",
   "metadata": {},
   "source": [
    "### Set-up and Imports"
   ]
  },
  {
   "cell_type": "code",
   "execution_count": 2,
   "metadata": {},
   "outputs": [],
   "source": [
    "import pandas as pd\n",
    "import numpy as np\n",
    "import matplotlib.pyplot as plt"
   ]
  },
  {
   "attachments": {},
   "cell_type": "markdown",
   "metadata": {},
   "source": [
    "## St Paul and Nashville\n",
    "\n",
    "> These were the first two issue we encountered"
   ]
  },
  {
   "attachments": {},
   "cell_type": "markdown",
   "metadata": {},
   "source": [
    "#### Load Data and Investigate"
   ]
  },
  {
   "cell_type": "code",
   "execution_count": 3,
   "metadata": {},
   "outputs": [],
   "source": [
    " # Set the path to st paul\n",
    "st_paul_path = \"../00_source_data/mn_saintpaul_2020_04_01.csv\"\n",
    "\n",
    "# set the path to nashville\n",
    "nashville_path = \"../01_remove_data/tn_nashville_2020_04_01.csv\""
   ]
  },
  {
   "cell_type": "code",
   "execution_count": 17,
   "metadata": {},
   "outputs": [
    {
     "name": "stderr",
     "output_type": "stream",
     "text": [
      "/var/folders/79/hh7cth4s3p3dbtdpc8j1m9bm0000gn/T/ipykernel_97156/90807190.py:2: DtypeWarning: Columns (10) have mixed types. Specify dtype option on import or set low_memory=False.\n",
      "  stp_df = pd.read_csv(st_paul_path, usecols=[\n",
      "/var/folders/79/hh7cth4s3p3dbtdpc8j1m9bm0000gn/T/ipykernel_97156/90807190.py:8: DtypeWarning: Columns (16) have mixed types. Specify dtype option on import or set low_memory=False.\n",
      "  nash_df = pd.read_csv(nashville_path, usecols=[\n"
     ]
    }
   ],
   "source": [
    "# Read in both csvs\n",
    "stp_df = pd.read_csv(st_paul_path, usecols=[\n",
    "                \"date\",\n",
    "                \"time\",\n",
    "                \"type\",\n",
    "                \"citation_issued\",\n",
    "            ])\n",
    "nash_df = pd.read_csv(nashville_path, usecols=[\n",
    "                \"date\",\n",
    "                \"time\",\n",
    "                \"type\",\n",
    "                \"citation_issued\",\n",
    "            ])"
   ]
  },
  {
   "cell_type": "code",
   "execution_count": 18,
   "metadata": {},
   "outputs": [
    {
     "data": {
      "text/plain": [
       "3"
      ]
     },
     "execution_count": 18,
     "metadata": {},
     "output_type": "execute_result"
    }
   ],
   "source": [
    "# Missing citations in stp_df\n",
    "stp_df.citation_issued.isna().sum()"
   ]
  },
  {
   "cell_type": "code",
   "execution_count": 19,
   "metadata": {},
   "outputs": [
    {
     "data": {
      "text/plain": [
       "320"
      ]
     },
     "execution_count": 19,
     "metadata": {},
     "output_type": "execute_result"
    }
   ],
   "source": [
    "# missing citations in nash_df\n",
    "nash_df.citation_issued.isna().sum()"
   ]
  },
  {
   "cell_type": "code",
   "execution_count": 20,
   "metadata": {},
   "outputs": [
    {
     "data": {
      "text/plain": [
       "date               0\n",
       "time               0\n",
       "type               0\n",
       "citation_issued    3\n",
       "dtype: int64"
      ]
     },
     "execution_count": 20,
     "metadata": {},
     "output_type": "execute_result"
    }
   ],
   "source": [
    "# total missing in stp\n",
    "stp_df.isna().sum()"
   ]
  },
  {
   "cell_type": "code",
   "execution_count": 21,
   "metadata": {},
   "outputs": [
    {
     "data": {
      "text/html": [
       "<div>\n",
       "<style scoped>\n",
       "    .dataframe tbody tr th:only-of-type {\n",
       "        vertical-align: middle;\n",
       "    }\n",
       "\n",
       "    .dataframe tbody tr th {\n",
       "        vertical-align: top;\n",
       "    }\n",
       "\n",
       "    .dataframe thead th {\n",
       "        text-align: right;\n",
       "    }\n",
       "</style>\n",
       "<table border=\"1\" class=\"dataframe\">\n",
       "  <thead>\n",
       "    <tr style=\"text-align: right;\">\n",
       "      <th></th>\n",
       "      <th>date</th>\n",
       "      <th>time</th>\n",
       "      <th>type</th>\n",
       "      <th>citation_issued</th>\n",
       "    </tr>\n",
       "  </thead>\n",
       "  <tbody>\n",
       "    <tr>\n",
       "      <th>31756</th>\n",
       "      <td>2014-01-17</td>\n",
       "      <td>20:51:00</td>\n",
       "      <td>vehicular</td>\n",
       "      <td>NaN</td>\n",
       "    </tr>\n",
       "    <tr>\n",
       "      <th>126268</th>\n",
       "      <td>2014-03-03</td>\n",
       "      <td>01:17:00</td>\n",
       "      <td>vehicular</td>\n",
       "      <td>NaN</td>\n",
       "    </tr>\n",
       "    <tr>\n",
       "      <th>649854</th>\n",
       "      <td>2013-12-14</td>\n",
       "      <td>09:06:00</td>\n",
       "      <td>vehicular</td>\n",
       "      <td>NaN</td>\n",
       "    </tr>\n",
       "  </tbody>\n",
       "</table>\n",
       "</div>"
      ],
      "text/plain": [
       "              date      time       type citation_issued\n",
       "31756   2014-01-17  20:51:00  vehicular             NaN\n",
       "126268  2014-03-03  01:17:00  vehicular             NaN\n",
       "649854  2013-12-14  09:06:00  vehicular             NaN"
      ]
     },
     "execution_count": 21,
     "metadata": {},
     "output_type": "execute_result"
    }
   ],
   "source": [
    "# see the 3 missing values in stp\n",
    "stp_df[stp_df.citation_issued.isna()]"
   ]
  },
  {
   "attachments": {},
   "cell_type": "markdown",
   "metadata": {},
   "source": [
    "> The only rows we care about that are NA are the 3x citation_issued outcomes. We can drop these rows and continue with our analysis. These three stops were vehicular, but appear to have no other data from the investigation."
   ]
  },
  {
   "cell_type": "code",
   "execution_count": 22,
   "metadata": {},
   "outputs": [
    {
     "data": {
      "text/plain": [
       "date                  0\n",
       "time               5467\n",
       "type                  0\n",
       "citation_issued     320\n",
       "dtype: int64"
      ]
     },
     "execution_count": 22,
     "metadata": {},
     "output_type": "execute_result"
    }
   ],
   "source": [
    "# total missing in nash\n",
    "nash_df.isna().sum()"
   ]
  },
  {
   "cell_type": "markdown",
   "metadata": {},
   "source": [
    "> The 320 missing values are a bigger problem in the Nashville data. We will drop this city from the analysis."
   ]
  },
  {
   "attachments": {},
   "cell_type": "markdown",
   "metadata": {},
   "source": [
    "## Winston-Salem"
   ]
  },
  {
   "cell_type": "code",
   "execution_count": 25,
   "metadata": {},
   "outputs": [],
   "source": [
    "win_path = \"../00_source_data/nc_winston-salem_2020_04_01.csv\"\n",
    "win_df = pd.read_csv(win_path, usecols=[\n",
    "                \"date\",\n",
    "                \"time\",\n",
    "                \"type\",\n",
    "                \"citation_issued\",\n",
    "            ])"
   ]
  },
  {
   "cell_type": "code",
   "execution_count": 26,
   "metadata": {},
   "outputs": [
    {
     "data": {
      "text/html": [
       "<div>\n",
       "<style scoped>\n",
       "    .dataframe tbody tr th:only-of-type {\n",
       "        vertical-align: middle;\n",
       "    }\n",
       "\n",
       "    .dataframe tbody tr th {\n",
       "        vertical-align: top;\n",
       "    }\n",
       "\n",
       "    .dataframe thead th {\n",
       "        text-align: right;\n",
       "    }\n",
       "</style>\n",
       "<table border=\"1\" class=\"dataframe\">\n",
       "  <thead>\n",
       "    <tr style=\"text-align: right;\">\n",
       "      <th></th>\n",
       "      <th>date</th>\n",
       "      <th>time</th>\n",
       "      <th>type</th>\n",
       "      <th>citation_issued</th>\n",
       "    </tr>\n",
       "  </thead>\n",
       "  <tbody>\n",
       "    <tr>\n",
       "      <th>0</th>\n",
       "      <td>2000-01-11</td>\n",
       "      <td>23:30:00</td>\n",
       "      <td>vehicular</td>\n",
       "      <td>False</td>\n",
       "    </tr>\n",
       "    <tr>\n",
       "      <th>1</th>\n",
       "      <td>2000-01-12</td>\n",
       "      <td>00:59:00</td>\n",
       "      <td>vehicular</td>\n",
       "      <td>True</td>\n",
       "    </tr>\n",
       "    <tr>\n",
       "      <th>2</th>\n",
       "      <td>2000-01-12</td>\n",
       "      <td>21:05:00</td>\n",
       "      <td>vehicular</td>\n",
       "      <td>False</td>\n",
       "    </tr>\n",
       "    <tr>\n",
       "      <th>3</th>\n",
       "      <td>2000-01-12</td>\n",
       "      <td>21:05:00</td>\n",
       "      <td>vehicular</td>\n",
       "      <td>True</td>\n",
       "    </tr>\n",
       "    <tr>\n",
       "      <th>4</th>\n",
       "      <td>2000-01-12</td>\n",
       "      <td>22:37:00</td>\n",
       "      <td>vehicular</td>\n",
       "      <td>False</td>\n",
       "    </tr>\n",
       "  </tbody>\n",
       "</table>\n",
       "</div>"
      ],
      "text/plain": [
       "         date      time       type  citation_issued\n",
       "0  2000-01-11  23:30:00  vehicular            False\n",
       "1  2000-01-12  00:59:00  vehicular             True\n",
       "2  2000-01-12  21:05:00  vehicular            False\n",
       "3  2000-01-12  21:05:00  vehicular             True\n",
       "4  2000-01-12  22:37:00  vehicular            False"
      ]
     },
     "execution_count": 26,
     "metadata": {},
     "output_type": "execute_result"
    }
   ],
   "source": [
    "win_df.head()"
   ]
  },
  {
   "cell_type": "code",
   "execution_count": 27,
   "metadata": {},
   "outputs": [
    {
     "data": {
      "text/plain": [
       "date                   0\n",
       "time               96776\n",
       "type                   0\n",
       "citation_issued        0\n",
       "dtype: int64"
      ]
     },
     "execution_count": 27,
     "metadata": {},
     "output_type": "execute_result"
    }
   ],
   "source": [
    "# show mising values\n",
    "win_df.isna().sum()"
   ]
  },
  {
   "attachments": {},
   "cell_type": "markdown",
   "metadata": {},
   "source": [
    "## Mesa AZ"
   ]
  },
  {
   "cell_type": "code",
   "execution_count": 37,
   "metadata": {},
   "outputs": [
    {
     "name": "stderr",
     "output_type": "stream",
     "text": [
      "/var/folders/79/hh7cth4s3p3dbtdpc8j1m9bm0000gn/T/ipykernel_97156/2831451292.py:2: DtypeWarning: Columns (23) have mixed types. Specify dtype option on import or set low_memory=False.\n",
      "  mesa_df = pd.read_csv(win_path,)\n"
     ]
    }
   ],
   "source": [
    "mesa_path = \"../00_source_data/az_mesa_2023_01_26.csv\"\n",
    "mesa_df = pd.read_csv(win_path,)"
   ]
  },
  {
   "cell_type": "code",
   "execution_count": 39,
   "metadata": {},
   "outputs": [
    {
     "data": {
      "text/plain": [
       "Index(['raw_row_number', 'date', 'time', 'location', 'county_name',\n",
       "       'subject_age', 'subject_race', 'subject_sex', 'officer_id_hash',\n",
       "       'department_name', 'type', 'arrest_made', 'citation_issued',\n",
       "       'warning_issued', 'outcome', 'contraband_found', 'contraband_drugs',\n",
       "       'contraband_weapons', 'frisk_performed', 'search_conducted',\n",
       "       'search_person', 'search_vehicle', 'search_basis', 'reason_for_frisk',\n",
       "       'reason_for_search', 'reason_for_stop', 'raw_Ethnicity', 'raw_Race',\n",
       "       'raw_action_description'],\n",
       "      dtype='object')"
      ]
     },
     "execution_count": 39,
     "metadata": {},
     "output_type": "execute_result"
    }
   ],
   "source": [
    "mesa_df.columns"
   ]
  },
  {
   "cell_type": "code",
   "execution_count": 33,
   "metadata": {},
   "outputs": [
    {
     "data": {
      "text/plain": [
       "date               0\n",
       "type               0\n",
       "citation_issued    0\n",
       "dtype: int64"
      ]
     },
     "execution_count": 33,
     "metadata": {},
     "output_type": "execute_result"
    }
   ],
   "source": [
    "mesa_df.isna().sum()"
   ]
  },
  {
   "attachments": {},
   "cell_type": "markdown",
   "metadata": {},
   "source": [
    "> Mesa is giving big problems on the import, its gone"
   ]
  },
  {
   "cell_type": "markdown",
   "metadata": {},
   "source": []
  }
 ],
 "metadata": {
  "kernelspec": {
   "display_name": "base",
   "language": "python",
   "name": "python3"
  },
  "language_info": {
   "codemirror_mode": {
    "name": "ipython",
    "version": 3
   },
   "file_extension": ".py",
   "mimetype": "text/x-python",
   "name": "python",
   "nbconvert_exporter": "python",
   "pygments_lexer": "ipython3",
   "version": "3.10.6"
  },
  "orig_nbformat": 4
 },
 "nbformat": 4,
 "nbformat_minor": 2
}
