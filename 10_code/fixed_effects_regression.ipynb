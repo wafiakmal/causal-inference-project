{
 "cells": [
  {
   "attachments": {},
   "cell_type": "markdown",
   "metadata": {},
   "source": [
    "# Fixed Effect Regression Analysis"
   ]
  },
  {
   "cell_type": "code",
   "execution_count": 20,
   "metadata": {},
   "outputs": [],
   "source": [
    "# import packages\n",
    "import pandas as pd\n",
    "import numpy as np\n",
    "import matplotlib.pyplot as plt\n",
    "import seaborn as sns"
   ]
  },
  {
   "cell_type": "code",
   "execution_count": 21,
   "metadata": {},
   "outputs": [],
   "source": [
    "# import data\n",
    "df = pd.read_csv('/Users/jennyshen/Desktop/processed_data_revised.csv')"
   ]
  },
  {
   "cell_type": "code",
   "execution_count": 22,
   "metadata": {},
   "outputs": [
    {
     "data": {
      "text/html": [
       "<div>\n",
       "<style scoped>\n",
       "    .dataframe tbody tr th:only-of-type {\n",
       "        vertical-align: middle;\n",
       "    }\n",
       "\n",
       "    .dataframe tbody tr th {\n",
       "        vertical-align: top;\n",
       "    }\n",
       "\n",
       "    .dataframe thead th {\n",
       "        text-align: right;\n",
       "    }\n",
       "</style>\n",
       "<table border=\"1\" class=\"dataframe\">\n",
       "  <thead>\n",
       "    <tr style=\"text-align: right;\">\n",
       "      <th></th>\n",
       "      <th>date</th>\n",
       "      <th>total_activity</th>\n",
       "      <th>citation_issued</th>\n",
       "      <th>citation_rate</th>\n",
       "      <th>day_of_week</th>\n",
       "      <th>month</th>\n",
       "      <th>days_end_month</th>\n",
       "      <th>end_of_month</th>\n",
       "      <th>year</th>\n",
       "      <th>days_end_year</th>\n",
       "      <th>end_of_year</th>\n",
       "      <th>quarter</th>\n",
       "      <th>days_end_quarter</th>\n",
       "      <th>end_of_quarter</th>\n",
       "      <th>city</th>\n",
       "      <th>state</th>\n",
       "    </tr>\n",
       "  </thead>\n",
       "  <tbody>\n",
       "    <tr>\n",
       "      <th>13789</th>\n",
       "      <td>2006-01-01</td>\n",
       "      <td>121</td>\n",
       "      <td>70</td>\n",
       "      <td>0.578512</td>\n",
       "      <td>7</td>\n",
       "      <td>1</td>\n",
       "      <td>30</td>\n",
       "      <td>False</td>\n",
       "      <td>2006</td>\n",
       "      <td>180.0</td>\n",
       "      <td>False</td>\n",
       "      <td>3.0</td>\n",
       "      <td>89.0</td>\n",
       "      <td>False</td>\n",
       "      <td>seattle</td>\n",
       "      <td>wa</td>\n",
       "    </tr>\n",
       "    <tr>\n",
       "      <th>13790</th>\n",
       "      <td>2006-01-02</td>\n",
       "      <td>137</td>\n",
       "      <td>67</td>\n",
       "      <td>0.489051</td>\n",
       "      <td>1</td>\n",
       "      <td>1</td>\n",
       "      <td>29</td>\n",
       "      <td>False</td>\n",
       "      <td>2006</td>\n",
       "      <td>179.0</td>\n",
       "      <td>False</td>\n",
       "      <td>3.0</td>\n",
       "      <td>88.0</td>\n",
       "      <td>False</td>\n",
       "      <td>seattle</td>\n",
       "      <td>wa</td>\n",
       "    </tr>\n",
       "    <tr>\n",
       "      <th>13791</th>\n",
       "      <td>2006-01-03</td>\n",
       "      <td>114</td>\n",
       "      <td>62</td>\n",
       "      <td>0.543860</td>\n",
       "      <td>2</td>\n",
       "      <td>1</td>\n",
       "      <td>28</td>\n",
       "      <td>False</td>\n",
       "      <td>2006</td>\n",
       "      <td>178.0</td>\n",
       "      <td>False</td>\n",
       "      <td>3.0</td>\n",
       "      <td>87.0</td>\n",
       "      <td>False</td>\n",
       "      <td>seattle</td>\n",
       "      <td>wa</td>\n",
       "    </tr>\n",
       "    <tr>\n",
       "      <th>13792</th>\n",
       "      <td>2006-01-04</td>\n",
       "      <td>124</td>\n",
       "      <td>74</td>\n",
       "      <td>0.596774</td>\n",
       "      <td>3</td>\n",
       "      <td>1</td>\n",
       "      <td>27</td>\n",
       "      <td>False</td>\n",
       "      <td>2006</td>\n",
       "      <td>177.0</td>\n",
       "      <td>False</td>\n",
       "      <td>3.0</td>\n",
       "      <td>86.0</td>\n",
       "      <td>False</td>\n",
       "      <td>seattle</td>\n",
       "      <td>wa</td>\n",
       "    </tr>\n",
       "    <tr>\n",
       "      <th>13793</th>\n",
       "      <td>2006-01-05</td>\n",
       "      <td>109</td>\n",
       "      <td>67</td>\n",
       "      <td>0.614679</td>\n",
       "      <td>4</td>\n",
       "      <td>1</td>\n",
       "      <td>26</td>\n",
       "      <td>False</td>\n",
       "      <td>2006</td>\n",
       "      <td>176.0</td>\n",
       "      <td>False</td>\n",
       "      <td>3.0</td>\n",
       "      <td>85.0</td>\n",
       "      <td>False</td>\n",
       "      <td>seattle</td>\n",
       "      <td>wa</td>\n",
       "    </tr>\n",
       "  </tbody>\n",
       "</table>\n",
       "</div>"
      ],
      "text/plain": [
       "             date  total_activity  citation_issued  citation_rate  \\\n",
       "13789  2006-01-01             121               70       0.578512   \n",
       "13790  2006-01-02             137               67       0.489051   \n",
       "13791  2006-01-03             114               62       0.543860   \n",
       "13792  2006-01-04             124               74       0.596774   \n",
       "13793  2006-01-05             109               67       0.614679   \n",
       "\n",
       "       day_of_week  month  days_end_month  end_of_month  year  days_end_year  \\\n",
       "13789            7      1              30         False  2006          180.0   \n",
       "13790            1      1              29         False  2006          179.0   \n",
       "13791            2      1              28         False  2006          178.0   \n",
       "13792            3      1              27         False  2006          177.0   \n",
       "13793            4      1              26         False  2006          176.0   \n",
       "\n",
       "       end_of_year  quarter  days_end_quarter  end_of_quarter     city state  \n",
       "13789        False      3.0              89.0           False  seattle    wa  \n",
       "13790        False      3.0              88.0           False  seattle    wa  \n",
       "13791        False      3.0              87.0           False  seattle    wa  \n",
       "13792        False      3.0              86.0           False  seattle    wa  \n",
       "13793        False      3.0              85.0           False  seattle    wa  "
      ]
     },
     "execution_count": 22,
     "metadata": {},
     "output_type": "execute_result"
    }
   ],
   "source": [
    "# filter the data for Cincinnati, Seattle, Madison, Durham\n",
    "df = df[df['city'].isin(['cincinnati', 'seattle', 'madison', 'durham'])]\n",
    "df.head()"
   ]
  },
  {
   "attachments": {},
   "cell_type": "markdown",
   "metadata": {},
   "source": [
    "## Number of days to the end of the Month analysis"
   ]
  },
  {
   "cell_type": "code",
   "execution_count": 23,
   "metadata": {},
   "outputs": [],
   "source": [
    "df_month = df.copy()"
   ]
  },
  {
   "cell_type": "code",
   "execution_count": 24,
   "metadata": {},
   "outputs": [
    {
     "name": "stdout",
     "output_type": "stream",
     "text": [
      "                          PanelOLS Estimation Summary                           \n",
      "================================================================================\n",
      "Dep. Variable:        citation_issued   R-squared:                        0.0003\n",
      "Estimator:                   PanelOLS   R-squared (Between):             -0.0025\n",
      "No. Observations:               16740   R-squared (Within):               0.0002\n",
      "Date:                Wed, Apr 19 2023   R-squared (Overall):              0.0002\n",
      "Time:                        01:59:19   Log-likelihood                -7.634e+04\n",
      "Cov. Estimator:             Clustered                                           \n",
      "                                        F-statistic:                      5.0340\n",
      "Entities:                           4   P-value                           0.0249\n",
      "Avg Obs:                       4185.0   Distribution:                 F(1,16716)\n",
      "Min Obs:                       3428.0                                           \n",
      "Max Obs:                       5112.0   F-statistic (robust):             2.4801\n",
      "                                        P-value                           0.1153\n",
      "Time periods:                      20   Distribution:                 F(1,16716)\n",
      "Avg Obs:                       837.00                                           \n",
      "Min Obs:                       1.0000                                           \n",
      "Max Obs:                       1464.0                                           \n",
      "                                                                                \n",
      "                               Parameter Estimates                                \n",
      "==================================================================================\n",
      "                Parameter  Std. Err.     T-stat    P-value    Lower CI    Upper CI\n",
      "----------------------------------------------------------------------------------\n",
      "Intercept          41.283     0.4271     96.650     0.0000      40.446      42.121\n",
      "days_end_month     0.0457     0.0290     1.5748     0.1153     -0.0112      0.1025\n",
      "==================================================================================\n",
      "\n",
      "F-test for Poolability: 248.84\n",
      "P-value: 0.0000\n",
      "Distribution: F(22,16716)\n",
      "\n",
      "Included effects: Entity, Time\n"
     ]
    }
   ],
   "source": [
    "from linearmodels.panel import PanelOLS\n",
    "\n",
    "# Create a panel data frame\n",
    "df_month = df_month.set_index(['city', 'year'])\n",
    "\n",
    "# Define the model\n",
    "model = PanelOLS.from_formula('citation_issued ~ 1 + days_end_month + EntityEffects + TimeEffects', df_month)\n",
    "\n",
    "# Estimate the model\n",
    "fe_reg_month = model.fit(cov_type='clustered', cluster_entity=True)\n",
    "\n",
    "# View the results\n",
    "print(fe_reg_month)"
   ]
  },
  {
   "attachments": {},
   "cell_type": "markdown",
   "metadata": {},
   "source": [
    "A coefficient of 0.0457 for `days_end_month` means that, all other variables held constant, a one-unit increase in the number of days left to the end of the month is associated with an increase of 0.0457 in the number of citations issued.\n",
    "\n",
    "The p-value of 0.1153 indicates the statistical significance of the coefficient estimate. In this case, the p-value is greater than the conventional threshold of 0.05, which suggests that the positive relationship between the number of days left to the end of the month and the number of citation issued is not statistically significant at the 5% level of significance. "
   ]
  },
  {
   "attachments": {},
   "cell_type": "markdown",
   "metadata": {},
   "source": [
    "## Number of days to the end of the Quarter analysis"
   ]
  },
  {
   "cell_type": "code",
   "execution_count": 25,
   "metadata": {},
   "outputs": [],
   "source": [
    "df_quarter = df.copy()"
   ]
  },
  {
   "cell_type": "code",
   "execution_count": 26,
   "metadata": {},
   "outputs": [
    {
     "name": "stdout",
     "output_type": "stream",
     "text": [
      "                          PanelOLS Estimation Summary                           \n",
      "================================================================================\n",
      "Dep. Variable:        citation_issued   R-squared:                        0.0003\n",
      "Estimator:                   PanelOLS   R-squared (Between):             -0.0023\n",
      "No. Observations:               16740   R-squared (Within):               0.0002\n",
      "Date:                Wed, Apr 19 2023   R-squared (Overall):              0.0002\n",
      "Time:                        01:59:19   Log-likelihood                -7.634e+04\n",
      "Cov. Estimator:             Clustered                                           \n",
      "                                        F-statistic:                      4.5812\n",
      "Entities:                           4   P-value                           0.0323\n",
      "Avg Obs:                       4185.0   Distribution:                 F(1,16716)\n",
      "Min Obs:                       3428.0                                           \n",
      "Max Obs:                       5112.0   F-statistic (robust):             3.5960\n",
      "                                        P-value                           0.0579\n",
      "Time periods:                      20   Distribution:                 F(1,16716)\n",
      "Avg Obs:                       837.00                                           \n",
      "Min Obs:                       1.0000                                           \n",
      "Max Obs:                       1464.0                                           \n",
      "                                                                                \n",
      "                                Parameter Estimates                                 \n",
      "====================================================================================\n",
      "                  Parameter  Std. Err.     T-stat    P-value    Lower CI    Upper CI\n",
      "------------------------------------------------------------------------------------\n",
      "Intercept            41.298     0.3470     119.00     0.0000      40.618      41.978\n",
      "days_end_quarter     0.0145     0.0077     1.8963     0.0579     -0.0005      0.0296\n",
      "====================================================================================\n",
      "\n",
      "F-test for Poolability: 248.85\n",
      "P-value: 0.0000\n",
      "Distribution: F(22,16716)\n",
      "\n",
      "Included effects: Entity, Time\n"
     ]
    }
   ],
   "source": [
    "from linearmodels.panel import PanelOLS\n",
    "\n",
    "# Create a panel data frame\n",
    "df_quarter = df_quarter.set_index(['city', 'year'])\n",
    "\n",
    "# Define the model\n",
    "model = PanelOLS.from_formula('citation_issued ~ 1 + days_end_quarter + EntityEffects + TimeEffects', df_quarter)\n",
    "\n",
    "# Estimate the model\n",
    "fe_reg_quarter = model.fit(cov_type='clustered', cluster_entity=True)\n",
    "\n",
    "# View the results\n",
    "print(fe_reg_quarter)\n"
   ]
  },
  {
   "attachments": {},
   "cell_type": "markdown",
   "metadata": {},
   "source": [
    "A coefficient of 0.0145 for `days_end_quarter` means that, all other variables held constant, a one-unit increase in the number of days left to the end of the quarter is associated with an increase of 0.0145 in the number of citations issued.\n",
    "\n",
    "The p-value of 0.0579 indicates the statistical significance of the coefficient estimate. In this case, the p-value is greater than the conventional threshold of 0.05, which suggests that the positive relationship between the number of days left to the end of the quarter and the number of citation issued is not statistically significant at the 5% level of significance. "
   ]
  },
  {
   "cell_type": "markdown",
   "metadata": {},
   "source": [
    "## Number of days to the end of the Year analysis"
   ]
  },
  {
   "cell_type": "code",
   "execution_count": 27,
   "metadata": {},
   "outputs": [],
   "source": [
    "df_year = df.copy()"
   ]
  },
  {
   "cell_type": "code",
   "execution_count": 28,
   "metadata": {},
   "outputs": [
    {
     "name": "stdout",
     "output_type": "stream",
     "text": [
      "                          PanelOLS Estimation Summary                           \n",
      "================================================================================\n",
      "Dep. Variable:        citation_issued   R-squared:                        0.0022\n",
      "Estimator:                   PanelOLS   R-squared (Between):              0.0008\n",
      "No. Observations:               16740   R-squared (Within):               0.0004\n",
      "Date:                Wed, Apr 19 2023   R-squared (Overall):              0.0008\n",
      "Time:                        01:59:20   Log-likelihood                -7.633e+04\n",
      "Cov. Estimator:             Clustered                                           \n",
      "                                        F-statistic:                      36.232\n",
      "Entities:                           4   P-value                           0.0000\n",
      "Avg Obs:                       4185.0   Distribution:                 F(1,16716)\n",
      "Min Obs:                       3428.0                                           \n",
      "Max Obs:                       5112.0   F-statistic (robust):             3.4181\n",
      "                                        P-value                           0.0645\n",
      "Time periods:                      20   Distribution:                 F(1,16716)\n",
      "Avg Obs:                       837.00                                           \n",
      "Min Obs:                       1.0000                                           \n",
      "Max Obs:                       1464.0                                           \n",
      "                                                                                \n",
      "                               Parameter Estimates                               \n",
      "=================================================================================\n",
      "               Parameter  Std. Err.     T-stat    P-value    Lower CI    Upper CI\n",
      "---------------------------------------------------------------------------------\n",
      "Intercept         43.811     1.0035     43.658     0.0000      41.844      45.778\n",
      "days_end_year    -0.0103     0.0056    -1.8488     0.0645     -0.0212      0.0006\n",
      "=================================================================================\n",
      "\n",
      "F-test for Poolability: 250.00\n",
      "P-value: 0.0000\n",
      "Distribution: F(22,16716)\n",
      "\n",
      "Included effects: Entity, Time\n"
     ]
    }
   ],
   "source": [
    "from linearmodels.panel import PanelOLS\n",
    "\n",
    "# Create a panel data frame\n",
    "df_year = df_year.set_index(['city', 'year'])\n",
    "\n",
    "# Define the model\n",
    "model = PanelOLS.from_formula('citation_issued ~ 1 + days_end_year + EntityEffects + TimeEffects', df_year)\n",
    "\n",
    "# Estimate the model\n",
    "fe_reg_year = model.fit(cov_type='clustered', cluster_entity=True)\n",
    "\n",
    "# View the results\n",
    "print(fe_reg_year)"
   ]
  },
  {
   "attachments": {},
   "cell_type": "markdown",
   "metadata": {},
   "source": [
    "A coefficient of -0.0103 for `days_end_year` means that, all other variables held constant, a one-unit increase in the number of days left to the end of the quarter is associated with a decrease of 0.0103 in the number of citations issued.\n",
    "\n",
    "The p-value of 0.0645 indicates the statistical significance of the coefficient estimate. In this case, the p-value is greater than the conventional threshold of 0.05, which suggests that the negative relationship between the number of days left to the end of the quarter and the number of citation issued is not statistically significant at the 5% level of significance. "
   ]
  },
  {
   "cell_type": "markdown",
   "metadata": {},
   "source": []
  }
 ],
 "metadata": {
  "kernelspec": {
   "display_name": "base",
   "language": "python",
   "name": "python3"
  },
  "language_info": {
   "codemirror_mode": {
    "name": "ipython",
    "version": 3
   },
   "file_extension": ".py",
   "mimetype": "text/x-python",
   "name": "python",
   "nbconvert_exporter": "python",
   "pygments_lexer": "ipython3",
   "version": "3.10.6"
  },
  "orig_nbformat": 4
 },
 "nbformat": 4,
 "nbformat_minor": 2
}
