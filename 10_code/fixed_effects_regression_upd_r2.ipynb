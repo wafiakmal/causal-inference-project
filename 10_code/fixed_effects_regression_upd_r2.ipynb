{
 "cells": [
  {
   "attachments": {},
   "cell_type": "markdown",
   "metadata": {},
   "source": [
    "# Fixed Effect Regression Analysis"
   ]
  },
  {
   "cell_type": "code",
   "execution_count": 1,
   "metadata": {},
   "outputs": [],
   "source": [
    "# import packages\n",
    "import pandas as pd\n",
    "import numpy as np\n",
    "import matplotlib.pyplot as plt\n",
    "import statsmodels.api as sm\n",
    "from statsmodels.formula.api import ols\n",
    "from linearmodels import PanelOLS\n",
    "import warnings\n",
    "warnings.filterwarnings('ignore')"
   ]
  },
  {
   "cell_type": "code",
   "execution_count": 2,
   "metadata": {},
   "outputs": [
    {
     "data": {
      "text/html": [
       "<div>\n",
       "<style scoped>\n",
       "    .dataframe tbody tr th:only-of-type {\n",
       "        vertical-align: middle;\n",
       "    }\n",
       "\n",
       "    .dataframe tbody tr th {\n",
       "        vertical-align: top;\n",
       "    }\n",
       "\n",
       "    .dataframe thead th {\n",
       "        text-align: right;\n",
       "    }\n",
       "</style>\n",
       "<table border=\"1\" class=\"dataframe\">\n",
       "  <thead>\n",
       "    <tr style=\"text-align: right;\">\n",
       "      <th></th>\n",
       "      <th>date</th>\n",
       "      <th>total_activity</th>\n",
       "      <th>citation_issued</th>\n",
       "      <th>citation_rate</th>\n",
       "      <th>day_of_week</th>\n",
       "      <th>month</th>\n",
       "      <th>days_end_month</th>\n",
       "      <th>end_of_month</th>\n",
       "      <th>year</th>\n",
       "      <th>days_end_year</th>\n",
       "      <th>end_of_year</th>\n",
       "      <th>quarter</th>\n",
       "      <th>days_end_quarter</th>\n",
       "      <th>end_of_quarter</th>\n",
       "      <th>city</th>\n",
       "      <th>state</th>\n",
       "    </tr>\n",
       "  </thead>\n",
       "  <tbody>\n",
       "    <tr>\n",
       "      <th>0</th>\n",
       "      <td>2010-01-01</td>\n",
       "      <td>27</td>\n",
       "      <td>27</td>\n",
       "      <td>1.0</td>\n",
       "      <td>5</td>\n",
       "      <td>1</td>\n",
       "      <td>30</td>\n",
       "      <td>False</td>\n",
       "      <td>2010</td>\n",
       "      <td>180.0</td>\n",
       "      <td>False</td>\n",
       "      <td>3.0</td>\n",
       "      <td>89.0</td>\n",
       "      <td>False</td>\n",
       "      <td>bakersfield</td>\n",
       "      <td>ca</td>\n",
       "    </tr>\n",
       "    <tr>\n",
       "      <th>1</th>\n",
       "      <td>2010-01-02</td>\n",
       "      <td>6</td>\n",
       "      <td>6</td>\n",
       "      <td>1.0</td>\n",
       "      <td>6</td>\n",
       "      <td>1</td>\n",
       "      <td>29</td>\n",
       "      <td>False</td>\n",
       "      <td>2010</td>\n",
       "      <td>179.0</td>\n",
       "      <td>False</td>\n",
       "      <td>3.0</td>\n",
       "      <td>88.0</td>\n",
       "      <td>False</td>\n",
       "      <td>bakersfield</td>\n",
       "      <td>ca</td>\n",
       "    </tr>\n",
       "    <tr>\n",
       "      <th>2</th>\n",
       "      <td>2010-01-03</td>\n",
       "      <td>13</td>\n",
       "      <td>13</td>\n",
       "      <td>1.0</td>\n",
       "      <td>7</td>\n",
       "      <td>1</td>\n",
       "      <td>28</td>\n",
       "      <td>False</td>\n",
       "      <td>2010</td>\n",
       "      <td>178.0</td>\n",
       "      <td>False</td>\n",
       "      <td>3.0</td>\n",
       "      <td>87.0</td>\n",
       "      <td>False</td>\n",
       "      <td>bakersfield</td>\n",
       "      <td>ca</td>\n",
       "    </tr>\n",
       "    <tr>\n",
       "      <th>3</th>\n",
       "      <td>2010-01-04</td>\n",
       "      <td>86</td>\n",
       "      <td>86</td>\n",
       "      <td>1.0</td>\n",
       "      <td>1</td>\n",
       "      <td>1</td>\n",
       "      <td>27</td>\n",
       "      <td>False</td>\n",
       "      <td>2010</td>\n",
       "      <td>177.0</td>\n",
       "      <td>False</td>\n",
       "      <td>3.0</td>\n",
       "      <td>86.0</td>\n",
       "      <td>False</td>\n",
       "      <td>bakersfield</td>\n",
       "      <td>ca</td>\n",
       "    </tr>\n",
       "    <tr>\n",
       "      <th>4</th>\n",
       "      <td>2010-01-05</td>\n",
       "      <td>60</td>\n",
       "      <td>60</td>\n",
       "      <td>1.0</td>\n",
       "      <td>2</td>\n",
       "      <td>1</td>\n",
       "      <td>26</td>\n",
       "      <td>False</td>\n",
       "      <td>2010</td>\n",
       "      <td>176.0</td>\n",
       "      <td>False</td>\n",
       "      <td>3.0</td>\n",
       "      <td>85.0</td>\n",
       "      <td>False</td>\n",
       "      <td>bakersfield</td>\n",
       "      <td>ca</td>\n",
       "    </tr>\n",
       "  </tbody>\n",
       "</table>\n",
       "</div>"
      ],
      "text/plain": [
       "         date  total_activity  citation_issued  citation_rate  day_of_week  \\\n",
       "0  2010-01-01              27               27            1.0            5   \n",
       "1  2010-01-02               6                6            1.0            6   \n",
       "2  2010-01-03              13               13            1.0            7   \n",
       "3  2010-01-04              86               86            1.0            1   \n",
       "4  2010-01-05              60               60            1.0            2   \n",
       "\n",
       "   month  days_end_month  end_of_month  year  days_end_year  end_of_year  \\\n",
       "0      1              30         False  2010          180.0        False   \n",
       "1      1              29         False  2010          179.0        False   \n",
       "2      1              28         False  2010          178.0        False   \n",
       "3      1              27         False  2010          177.0        False   \n",
       "4      1              26         False  2010          176.0        False   \n",
       "\n",
       "   quarter  days_end_quarter  end_of_quarter         city state  \n",
       "0      3.0              89.0           False  bakersfield    ca  \n",
       "1      3.0              88.0           False  bakersfield    ca  \n",
       "2      3.0              87.0           False  bakersfield    ca  \n",
       "3      3.0              86.0           False  bakersfield    ca  \n",
       "4      3.0              85.0           False  bakersfield    ca  "
      ]
     },
     "execution_count": 2,
     "metadata": {},
     "output_type": "execute_result"
    }
   ],
   "source": [
    "# import data\n",
    "df = pd.read_csv('../05_clean_data/processed_data_clean_final.csv')\n",
    "df.head()"
   ]
  },
  {
   "cell_type": "code",
   "execution_count": 3,
   "metadata": {},
   "outputs": [],
   "source": [
    "# make a list of tuple of city, state for all the unique cities and state in the dataframe\n",
    "city_state = list(zip(df['city'], df['state']))\n",
    "# make a list of unique city, state\n",
    "city_state_unique = list(set(city_state))"
   ]
  },
  {
   "cell_type": "code",
   "execution_count": 29,
   "metadata": {},
   "outputs": [
    {
     "name": "stdout",
     "output_type": "stream",
     "text": [
      "durham city at state nc has a positive value for end_of_year period and citation_issued. The value is: 3.85916, with p-values: 0.00198\n",
      "madison city at state wi has a positive value for end_of_year period and citation_issued. The value is: 5.53688, with p-values: 0.02738\n",
      "cincinnati city at state oh has a positive value for end_of_month period and citation_issued. The value is: 3.62864, with p-values: 0.00008\n",
      "aurora city at state co has a positive value for end_of_year period and citation_issued. The value is: 17.22527, with p-values: 0.00123\n"
     ]
    }
   ],
   "source": [
    "# Define a list of end_of_* columns\n",
    "end_of_columns = [\"end_of_month\", \"end_of_quarter\", \"end_of_year\"]\n",
    "\n",
    "significant_cities = dict()\n",
    "pval_thres = 0.05\n",
    "\n",
    "positive_corr = dict()\n",
    "negative_corr = dict()\n",
    "\n",
    "for city, state in city_state_unique:\n",
    "    # Filter the data by city and state\n",
    "    df_filtered = df[(df[\"city\"] == city) & (df[\"state\"] == state)]\n",
    "\n",
    "    temp_dict1 = dict()\n",
    "    temp_dict2 = dict()\n",
    "\n",
    "    for end_of_col in end_of_columns:\n",
    "        # Set the index as a MultiIndex with 'date'\n",
    "        df_filtered[end_of_col] = df_filtered[end_of_col].astype(\n",
    "            int\n",
    "        )  # Convert True/False to 1/0\n",
    "\n",
    "        # Prepare the dependent and independent variables\n",
    "        dependent_var = df_filtered[\"citation_issued\"]\n",
    "        independent_vars = sm.add_constant(df_filtered[[end_of_col]])\n",
    "        independent_vars[\"year\"] = df_filtered[\"year\"]\n",
    "\n",
    "        # Create the PanelData structure\n",
    "        panel_data = df_filtered[\n",
    "            [\"date\", \"citation_issued\", end_of_col, \"year\"]\n",
    "        ]\n",
    "        panel_data = panel_data.set_index([\"date\", \"year\"])\n",
    "\n",
    "        # Run the regression with TimeEffects\n",
    "        model = PanelOLS.from_formula(\n",
    "            f\"citation_issued ~ {end_of_col} + TimeEffects\", data=panel_data\n",
    "        )\n",
    "        result = model.fit()\n",
    "        summ = result.summary\n",
    "\n",
    "        if result.pvalues[0] < pval_thres:\n",
    "            temp_dict2[\"param_value\"] = result.params[0]\n",
    "            temp_dict2[\"p_value\"] = result.pvalues[0]\n",
    "            temp_dict2[\"r_squared\"] = result.rsquared\n",
    "            temp_dict1[end_of_col] = temp_dict2\n",
    "            significant_cities[city] = temp_dict1\n",
    "            temp_dict2 = dict()\n",
    "            if result.params[0] > 0:\n",
    "                positive_corr[f\"{city}_{end_of_col}\"] = summ\n",
    "                print(\n",
    "                f\"{city} city at state {state} has a positive value for \"\\\n",
    "                f\"{end_of_col} period and citation_issued. The value \"\\\n",
    "                f\"is: {result.params[0]:.5f}, with p-value: \"\\\n",
    "                    f\"{result.pvalues[0]:.5f}\"\n",
    "            )\n",
    "            elif result.params[0] < 0:\n",
    "                negative_corr[f\"{city}_{end_of_col}\"] = result"
   ]
  },
  {
   "cell_type": "code",
   "execution_count": 52,
   "metadata": {},
   "outputs": [
    {
     "name": "stdout",
     "output_type": "stream",
     "text": [
      "durham_end_of_year\n",
      "madison_end_of_year\n",
      "cincinnati_end_of_month\n",
      "aurora_end_of_year\n"
     ]
    }
   ],
   "source": [
    "# These are the cities with significant p-values and positive correlation\n",
    "for city in positive_corr.keys():\n",
    "    print(city)"
   ]
  },
  {
   "attachments": {},
   "cell_type": "markdown",
   "metadata": {},
   "source": [
    "> Each regression summary is accessible as value in the dictionary, so for example just call `positive_corr['cincinnati_end_of_month']` to get the regression summary for the Cincinnati end of month data."
   ]
  },
  {
   "cell_type": "code",
   "execution_count": 51,
   "metadata": {},
   "outputs": [
    {
     "name": "stdout",
     "output_type": "stream",
     "text": [
      "winston-salem_end_of_month\n",
      "winston-salem_end_of_quarter\n",
      "houston_end_of_quarter\n",
      "bakersfield_end_of_quarter\n",
      "bakersfield_end_of_year\n",
      "sanfrancisco_end_of_month\n",
      "sanfrancisco_end_of_quarter\n",
      "sanfrancisco_end_of_year\n",
      "durham_end_of_month\n",
      "durham_end_of_quarter\n",
      "baltimore_end_of_month\n",
      "baltimore_end_of_quarter\n",
      "baltimore_end_of_year\n",
      "sanantonio_end_of_month\n",
      "sanantonio_end_of_quarter\n",
      "greensboro_end_of_quarter\n",
      "denver_end_of_quarter\n",
      "oklahomacity_end_of_quarter\n",
      "madison_end_of_quarter\n",
      "seattle_end_of_quarter\n",
      "seattle_end_of_year\n",
      "cincinnati_end_of_quarter\n",
      "aurora_end_of_quarter\n"
     ]
    }
   ],
   "source": [
    "# These are the cities with significant p-values and negative correlation\n",
    "for city in negative_corr.keys():\n",
    "    print(city)"
   ]
  },
  {
   "attachments": {},
   "cell_type": "markdown",
   "metadata": {},
   "source": [
    "> Each regression summary is accessible as value in the dictionary, so for example just call `negative_corr['cincinnati_durham_end_of_month']` to get the regression summary for the Cincinnati end of month data."
   ]
  },
  {
   "cell_type": "code",
   "execution_count": 53,
   "metadata": {},
   "outputs": [
    {
     "name": "stdout",
     "output_type": "stream",
     "text": [
      "winston-salem\n",
      "houston\n",
      "bakersfield\n",
      "sanfrancisco\n",
      "durham\n",
      "baltimore\n",
      "sanantonio\n",
      "greensboro\n",
      "denver\n",
      "oklahomacity\n",
      "madison\n",
      "seattle\n",
      "cincinnati\n",
      "aurora\n"
     ]
    }
   ],
   "source": [
    "# Combination of both\n",
    "for city in significant_cities.keys():\n",
    "    print(city)"
   ]
  },
  {
   "attachments": {},
   "cell_type": "markdown",
   "metadata": {},
   "source": [
    "# I didn't change anything below this line\n",
    "---"
   ]
  },
  {
   "attachments": {},
   "cell_type": "markdown",
   "metadata": {},
   "source": [
    "# Example of interpretation\n",
    "## Cincinnati"
   ]
  },
  {
   "cell_type": "code",
   "execution_count": 4,
   "metadata": {},
   "outputs": [],
   "source": [
    "df['date'] = pd.to_datetime(df['date'])\n",
    "\n",
    "# Filter the data by city\n",
    "city_name = 'cincinnati'\n",
    "df_filtered = df[df['city'] == city_name]"
   ]
  },
  {
   "attachments": {},
   "cell_type": "markdown",
   "metadata": {},
   "source": [
    "## End of Month"
   ]
  },
  {
   "cell_type": "code",
   "execution_count": 5,
   "metadata": {},
   "outputs": [
    {
     "data": {
      "text/html": [
       "<div>\n",
       "<style scoped>\n",
       "    .dataframe tbody tr th:only-of-type {\n",
       "        vertical-align: middle;\n",
       "    }\n",
       "\n",
       "    .dataframe tbody tr th {\n",
       "        vertical-align: top;\n",
       "    }\n",
       "\n",
       "    .dataframe thead th {\n",
       "        text-align: right;\n",
       "    }\n",
       "</style>\n",
       "<table border=\"1\" class=\"dataframe\">\n",
       "  <thead>\n",
       "    <tr style=\"text-align: right;\">\n",
       "      <th></th>\n",
       "      <th></th>\n",
       "      <th>citation_issued</th>\n",
       "      <th>end_of_month</th>\n",
       "    </tr>\n",
       "    <tr>\n",
       "      <th>date</th>\n",
       "      <th>year</th>\n",
       "      <th></th>\n",
       "      <th></th>\n",
       "    </tr>\n",
       "  </thead>\n",
       "  <tbody>\n",
       "    <tr>\n",
       "      <th>2009-01-01</th>\n",
       "      <th>2009</th>\n",
       "      <td>70</td>\n",
       "      <td>0</td>\n",
       "    </tr>\n",
       "    <tr>\n",
       "      <th>2009-01-02</th>\n",
       "      <th>2009</th>\n",
       "      <td>116</td>\n",
       "      <td>0</td>\n",
       "    </tr>\n",
       "    <tr>\n",
       "      <th>2009-01-03</th>\n",
       "      <th>2009</th>\n",
       "      <td>118</td>\n",
       "      <td>0</td>\n",
       "    </tr>\n",
       "    <tr>\n",
       "      <th>2009-01-04</th>\n",
       "      <th>2009</th>\n",
       "      <td>56</td>\n",
       "      <td>0</td>\n",
       "    </tr>\n",
       "    <tr>\n",
       "      <th>2009-01-05</th>\n",
       "      <th>2009</th>\n",
       "      <td>115</td>\n",
       "      <td>0</td>\n",
       "    </tr>\n",
       "  </tbody>\n",
       "</table>\n",
       "</div>"
      ],
      "text/plain": [
       "                 citation_issued  end_of_month\n",
       "date       year                               \n",
       "2009-01-01 2009               70             0\n",
       "2009-01-02 2009              116             0\n",
       "2009-01-03 2009              118             0\n",
       "2009-01-04 2009               56             0\n",
       "2009-01-05 2009              115             0"
      ]
     },
     "execution_count": 5,
     "metadata": {},
     "output_type": "execute_result"
    }
   ],
   "source": [
    "# Set the index as a MultiIndex with 'date'\n",
    "df_filtered['end_of_month'] = df_filtered['end_of_month'].astype(int)  # Convert True/False to 1/0\n",
    "\n",
    "# Prepare the dependent and independent variables\n",
    "dependent_var = df_filtered['citation_issued']\n",
    "independent_vars = sm.add_constant(df_filtered[['end_of_month']])\n",
    "independent_vars['year'] = df_filtered['year']\n",
    "\n",
    "# Create the PanelData structure\n",
    "panel_data = df_filtered[['date','citation_issued', 'end_of_month', 'year']]\n",
    "panel_data = panel_data.set_index(['date', 'year'])\n",
    "panel_data.head()"
   ]
  },
  {
   "cell_type": "code",
   "execution_count": 6,
   "metadata": {},
   "outputs": [
    {
     "name": "stdout",
     "output_type": "stream",
     "text": [
      "                          PanelOLS Estimation Summary                           \n",
      "================================================================================\n",
      "Dep. Variable:        citation_issued   R-squared:                        0.0050\n",
      "Estimator:                   PanelOLS   R-squared (Between):              0.0216\n",
      "No. Observations:                3428   R-squared (Within):               0.0000\n",
      "Date:                Wed, Apr 26 2023   R-squared (Overall):              0.0216\n",
      "Time:                        08:51:01   Log-likelihood                -1.526e+04\n",
      "Cov. Estimator:            Unadjusted                                           \n",
      "                                        F-statistic:                      17.131\n",
      "Entities:                        3428   P-value                           0.0000\n",
      "Avg Obs:                       1.0000   Distribution:                  F(1,3417)\n",
      "Min Obs:                       1.0000                                           \n",
      "Max Obs:                       1.0000   F-statistic (robust):             17.131\n",
      "                                        P-value                           0.0000\n",
      "Time periods:                      10   Distribution:                  F(1,3417)\n",
      "Avg Obs:                       342.80                                           \n",
      "Min Obs:                       141.00                                           \n",
      "Max Obs:                       366.00                                           \n",
      "                                                                                \n",
      "                              Parameter Estimates                               \n",
      "================================================================================\n",
      "              Parameter  Std. Err.     T-stat    P-value    Lower CI    Upper CI\n",
      "--------------------------------------------------------------------------------\n",
      "end_of_month     3.6956     0.8929     4.1390     0.0000      1.9450      5.4462\n",
      "================================================================================\n",
      "\n",
      "F-test for Poolability: 358.80\n",
      "P-value: 0.0000\n",
      "Distribution: F(9,3417)\n",
      "\n",
      "Included effects: Time\n"
     ]
    }
   ],
   "source": [
    "# Run the regression with TimeEffects\n",
    "model = PanelOLS.from_formula(\"citation_issued ~ end_of_month + TimeEffects\", data=panel_data)\n",
    "result = model.fit()\n",
    "\n",
    "print(result)"
   ]
  },
  {
   "cell_type": "code",
   "execution_count": 11,
   "metadata": {},
   "outputs": [
    {
     "data": {
      "text/plain": [
       "3.6955627335593326"
      ]
     },
     "execution_count": 11,
     "metadata": {},
     "output_type": "execute_result"
    }
   ],
   "source": [
    "result.params[0]"
   ]
  },
  {
   "attachments": {},
   "cell_type": "markdown",
   "metadata": {},
   "source": [
    "The parameter estimate of 3.6956 indicates that, on average, there is an increase of 3.6956 `citation_issued` when it is the end of the month, holding all other variables constant. The p-value of 0.0000 suggests that this effect is statistically significant at 0.05 significance level meaning that there is strong evidence to conclude that there is a true positive relationship between `end_of_month` and `citation_issued`.\n",
    "\n",
    "In summary, the results suggest that there is a statistically significant increase in the number of citations issued at the end of the month compared to other times, after accounting for time fixed effects."
   ]
  },
  {
   "attachments": {},
   "cell_type": "markdown",
   "metadata": {},
   "source": [
    "## End of Quarter"
   ]
  },
  {
   "cell_type": "code",
   "execution_count": 87,
   "metadata": {},
   "outputs": [
    {
     "data": {
      "text/html": [
       "<div>\n",
       "<style scoped>\n",
       "    .dataframe tbody tr th:only-of-type {\n",
       "        vertical-align: middle;\n",
       "    }\n",
       "\n",
       "    .dataframe tbody tr th {\n",
       "        vertical-align: top;\n",
       "    }\n",
       "\n",
       "    .dataframe thead th {\n",
       "        text-align: right;\n",
       "    }\n",
       "</style>\n",
       "<table border=\"1\" class=\"dataframe\">\n",
       "  <thead>\n",
       "    <tr style=\"text-align: right;\">\n",
       "      <th></th>\n",
       "      <th></th>\n",
       "      <th>citation_issued</th>\n",
       "      <th>end_of_quarter</th>\n",
       "    </tr>\n",
       "    <tr>\n",
       "      <th>date</th>\n",
       "      <th>year</th>\n",
       "      <th></th>\n",
       "      <th></th>\n",
       "    </tr>\n",
       "  </thead>\n",
       "  <tbody>\n",
       "    <tr>\n",
       "      <th>2009-01-01</th>\n",
       "      <th>2009</th>\n",
       "      <td>70</td>\n",
       "      <td>0</td>\n",
       "    </tr>\n",
       "    <tr>\n",
       "      <th>2009-01-02</th>\n",
       "      <th>2009</th>\n",
       "      <td>116</td>\n",
       "      <td>0</td>\n",
       "    </tr>\n",
       "    <tr>\n",
       "      <th>2009-01-03</th>\n",
       "      <th>2009</th>\n",
       "      <td>118</td>\n",
       "      <td>0</td>\n",
       "    </tr>\n",
       "    <tr>\n",
       "      <th>2009-01-04</th>\n",
       "      <th>2009</th>\n",
       "      <td>56</td>\n",
       "      <td>0</td>\n",
       "    </tr>\n",
       "    <tr>\n",
       "      <th>2009-01-05</th>\n",
       "      <th>2009</th>\n",
       "      <td>115</td>\n",
       "      <td>0</td>\n",
       "    </tr>\n",
       "  </tbody>\n",
       "</table>\n",
       "</div>"
      ],
      "text/plain": [
       "                 citation_issued  end_of_quarter\n",
       "date       year                                 \n",
       "2009-01-01 2009               70               0\n",
       "2009-01-02 2009              116               0\n",
       "2009-01-03 2009              118               0\n",
       "2009-01-04 2009               56               0\n",
       "2009-01-05 2009              115               0"
      ]
     },
     "execution_count": 87,
     "metadata": {},
     "output_type": "execute_result"
    }
   ],
   "source": [
    "# Set the index as a MultiIndex with 'date'\n",
    "df_filtered['end_of_quarter'] = df_filtered['end_of_quarter'].astype(int)  # Convert True/False to 1/0\n",
    "\n",
    "# Prepare the dependent and independent variables\n",
    "dependent_var = df_filtered['citation_issued']\n",
    "independent_vars = sm.add_constant(df_filtered[['end_of_quarter']])\n",
    "independent_vars['year'] = df_filtered['year']\n",
    "\n",
    "# Create the PanelData structure\n",
    "panel_data = df_filtered[['date','citation_issued', 'end_of_quarter', 'year']]\n",
    "panel_data = panel_data.set_index(['date', 'year'])\n",
    "panel_data.head()"
   ]
  },
  {
   "cell_type": "code",
   "execution_count": 88,
   "metadata": {},
   "outputs": [
    {
     "name": "stdout",
     "output_type": "stream",
     "text": [
      "                          PanelOLS Estimation Summary                           \n",
      "================================================================================\n",
      "Dep. Variable:        citation_issued   R-squared:                        0.0094\n",
      "Estimator:                   PanelOLS   R-squared (Between):             -0.0206\n",
      "No. Observations:                3428   R-squared (Within):               0.0000\n",
      "Date:                Tue, Apr 25 2023   R-squared (Overall):             -0.0206\n",
      "Time:                        23:04:03   Log-likelihood                -1.525e+04\n",
      "Cov. Estimator:            Unadjusted                                           \n",
      "                                        F-statistic:                      32.388\n",
      "Entities:                        3428   P-value                           0.0000\n",
      "Avg Obs:                       1.0000   Distribution:                  F(1,3417)\n",
      "Min Obs:                       1.0000                                           \n",
      "Max Obs:                       1.0000   F-statistic (robust):             32.388\n",
      "                                        P-value                           0.0000\n",
      "Time periods:                      10   Distribution:                  F(1,3417)\n",
      "Avg Obs:                       342.80                                           \n",
      "Min Obs:                       141.00                                           \n",
      "Max Obs:                       366.00                                           \n",
      "                                                                                \n",
      "                               Parameter Estimates                                \n",
      "==================================================================================\n",
      "                Parameter  Std. Err.     T-stat    P-value    Lower CI    Upper CI\n",
      "----------------------------------------------------------------------------------\n",
      "end_of_quarter    -6.2315     1.0950    -5.6911     0.0000     -8.3784     -4.0847\n",
      "==================================================================================\n",
      "\n",
      "F-test for Poolability: 360.88\n",
      "P-value: 0.0000\n",
      "Distribution: F(9,3417)\n",
      "\n",
      "Included effects: Time\n"
     ]
    }
   ],
   "source": [
    "# Run the regression with TimeEffects\n",
    "model = PanelOLS.from_formula(\"citation_issued ~ end_of_quarter + TimeEffects\", data=panel_data)\n",
    "result = model.fit()\n",
    "\n",
    "print(result)"
   ]
  },
  {
   "attachments": {},
   "cell_type": "markdown",
   "metadata": {},
   "source": [
    "The parameter estimate of -6.2315 indicates that, on average, there is a decrease of 6.2315 `citation_issued` when it is the end of the quarter, holding all other variables constant. The p-value of 0.0000 suggests that this effect is statistically significant at 0.05 significance level meaning that there is strong evidence to conclude that there is a true relationship between `end_of_quarter` and `citation_issued`.\n",
    "\n",
    "In summary, the results suggest that there is a statistically significant decrease in the number of citations issued at the end of the quarter compared to other times, after accounting for time fixed effects."
   ]
  },
  {
   "attachments": {},
   "cell_type": "markdown",
   "metadata": {},
   "source": [
    "## End of Year"
   ]
  },
  {
   "cell_type": "code",
   "execution_count": 89,
   "metadata": {},
   "outputs": [
    {
     "data": {
      "text/html": [
       "<div>\n",
       "<style scoped>\n",
       "    .dataframe tbody tr th:only-of-type {\n",
       "        vertical-align: middle;\n",
       "    }\n",
       "\n",
       "    .dataframe tbody tr th {\n",
       "        vertical-align: top;\n",
       "    }\n",
       "\n",
       "    .dataframe thead th {\n",
       "        text-align: right;\n",
       "    }\n",
       "</style>\n",
       "<table border=\"1\" class=\"dataframe\">\n",
       "  <thead>\n",
       "    <tr style=\"text-align: right;\">\n",
       "      <th></th>\n",
       "      <th></th>\n",
       "      <th>citation_issued</th>\n",
       "      <th>end_of_year</th>\n",
       "    </tr>\n",
       "    <tr>\n",
       "      <th>date</th>\n",
       "      <th>year</th>\n",
       "      <th></th>\n",
       "      <th></th>\n",
       "    </tr>\n",
       "  </thead>\n",
       "  <tbody>\n",
       "    <tr>\n",
       "      <th>2009-01-01</th>\n",
       "      <th>2009</th>\n",
       "      <td>70</td>\n",
       "      <td>0</td>\n",
       "    </tr>\n",
       "    <tr>\n",
       "      <th>2009-01-02</th>\n",
       "      <th>2009</th>\n",
       "      <td>116</td>\n",
       "      <td>0</td>\n",
       "    </tr>\n",
       "    <tr>\n",
       "      <th>2009-01-03</th>\n",
       "      <th>2009</th>\n",
       "      <td>118</td>\n",
       "      <td>0</td>\n",
       "    </tr>\n",
       "    <tr>\n",
       "      <th>2009-01-04</th>\n",
       "      <th>2009</th>\n",
       "      <td>56</td>\n",
       "      <td>0</td>\n",
       "    </tr>\n",
       "    <tr>\n",
       "      <th>2009-01-05</th>\n",
       "      <th>2009</th>\n",
       "      <td>115</td>\n",
       "      <td>0</td>\n",
       "    </tr>\n",
       "  </tbody>\n",
       "</table>\n",
       "</div>"
      ],
      "text/plain": [
       "                 citation_issued  end_of_year\n",
       "date       year                              \n",
       "2009-01-01 2009               70            0\n",
       "2009-01-02 2009              116            0\n",
       "2009-01-03 2009              118            0\n",
       "2009-01-04 2009               56            0\n",
       "2009-01-05 2009              115            0"
      ]
     },
     "execution_count": 89,
     "metadata": {},
     "output_type": "execute_result"
    }
   ],
   "source": [
    "# Set the index as a MultiIndex with 'date'\n",
    "df_filtered['end_of_year'] = df_filtered['end_of_year'].astype(int)  # Convert True/False to 1/0\n",
    "\n",
    "# Prepare the dependent and independent variables\n",
    "dependent_var = df_filtered['citation_issued']\n",
    "independent_vars = sm.add_constant(df_filtered[['end_of_year']])\n",
    "independent_vars['year'] = df_filtered['year']\n",
    "\n",
    "# Create the PanelData structure\n",
    "panel_data = df_filtered[['date','citation_issued', 'end_of_year', 'year']]\n",
    "panel_data = panel_data.set_index(['date', 'year'])\n",
    "panel_data.head()"
   ]
  },
  {
   "cell_type": "code",
   "execution_count": 90,
   "metadata": {},
   "outputs": [
    {
     "name": "stdout",
     "output_type": "stream",
     "text": [
      "                          PanelOLS Estimation Summary                           \n",
      "================================================================================\n",
      "Dep. Variable:        citation_issued   R-squared:                     3.637e-05\n",
      "Estimator:                   PanelOLS   R-squared (Between):             -0.0008\n",
      "No. Observations:                3428   R-squared (Within):               0.0000\n",
      "Date:                Tue, Apr 25 2023   R-squared (Overall):             -0.0008\n",
      "Time:                        23:04:03   Log-likelihood                -1.527e+04\n",
      "Cov. Estimator:            Unadjusted                                           \n",
      "                                        F-statistic:                      0.1243\n",
      "Entities:                        3428   P-value                           0.7245\n",
      "Avg Obs:                       1.0000   Distribution:                  F(1,3417)\n",
      "Min Obs:                       1.0000                                           \n",
      "Max Obs:                       1.0000   F-statistic (robust):             0.1243\n",
      "                                        P-value                           0.7245\n",
      "Time periods:                      10   Distribution:                  F(1,3417)\n",
      "Avg Obs:                       342.80                                           \n",
      "Min Obs:                       141.00                                           \n",
      "Max Obs:                       366.00                                           \n",
      "                                                                                \n",
      "                              Parameter Estimates                              \n",
      "===============================================================================\n",
      "             Parameter  Std. Err.     T-stat    P-value    Lower CI    Upper CI\n",
      "-------------------------------------------------------------------------------\n",
      "end_of_year    -0.6257     1.7750    -0.3525     0.7245     -4.1058      2.8544\n",
      "===============================================================================\n",
      "\n",
      "F-test for Poolability: 357.12\n",
      "P-value: 0.0000\n",
      "Distribution: F(9,3417)\n",
      "\n",
      "Included effects: Time\n"
     ]
    }
   ],
   "source": [
    "# Run the regression with TimeEffects\n",
    "model = PanelOLS.from_formula(\"citation_issued ~ end_of_year + TimeEffects\", data=panel_data)\n",
    "result = model.fit()\n",
    "\n",
    "print(result)"
   ]
  },
  {
   "attachments": {},
   "cell_type": "markdown",
   "metadata": {},
   "source": [
    "The parameter estimate of -0.6257 indicates that, on average, there is a decrease of 0.6257 `citation_issued` when it is the end of the year, holding all other variables constant. The p-value of 0.7245 suggests that this effect is not statistically significant at 0.05 significance level meaning that there is insuficcient evidence to conclude that there is a true positive relationship between `end_of_year` and `citation_issued`.\n"
   ]
  }
 ],
 "metadata": {
  "kernelspec": {
   "display_name": "base",
   "language": "python",
   "name": "python3"
  },
  "language_info": {
   "codemirror_mode": {
    "name": "ipython",
    "version": 3
   },
   "file_extension": ".py",
   "mimetype": "text/x-python",
   "name": "python",
   "nbconvert_exporter": "python",
   "pygments_lexer": "ipython3",
   "version": "3.10.9"
  },
  "orig_nbformat": 4
 },
 "nbformat": 4,
 "nbformat_minor": 2
}
